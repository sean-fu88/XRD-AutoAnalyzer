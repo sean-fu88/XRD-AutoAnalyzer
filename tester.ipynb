{
 "cells": [
  {
   "cell_type": "markdown",
   "metadata": {},
   "source": []
  },
  {
   "cell_type": "code",
   "execution_count": 1,
   "metadata": {},
   "outputs": [],
   "source": [
    "from construct_model import *"
   ]
  },
  {
   "cell_type": "code",
   "execution_count": 2,
   "metadata": {},
   "outputs": [
    {
     "name": "stdout",
     "output_type": "stream",
     "text": [
      "got to spectrum\n",
      "initiated\n",
      "augmented time\n",
      "[[Structure Summary\n",
      "Lattice\n",
      "    abc : 4.067 4.067 4.067\n",
      " angles : 90.0 90.0 90.0\n",
      " volume : 67.270168763\n",
      "      A : 4.067 0.0 2.490319266066143e-16\n",
      "      B : 6.540234816234882e-16 4.067 2.490319266066143e-16\n",
      "      C : 0.0 0.0 4.067\n",
      "    pbc : True True True\n",
      "PeriodicSite: Li0+ (0.0000, 0.0000, 0.0000) [0.0000, 0.0000, 0.0000]\n",
      "PeriodicSite: Li0+ (0.0000, 2.0335, 2.0335) [0.0000, 0.5000, 0.5000]\n",
      "PeriodicSite: Li0+ (2.0335, 0.0000, 2.0335) [0.5000, 0.0000, 0.5000]\n",
      "PeriodicSite: Li0+ (2.0335, 2.0335, 0.0000) [0.5000, 0.5000, 0.0000]\n",
      "PeriodicSite: F0+ (2.0335, 2.0335, 2.0335) [0.5000, 0.5000, 0.5000]\n",
      "PeriodicSite: F0+ (2.0335, 0.0000, 0.0000) [0.5000, 0.0000, 0.0000]\n",
      "PeriodicSite: F0+ (0.0000, 2.0335, 0.0000) [0.0000, 0.5000, 0.0000]\n",
      "PeriodicSite: F0+ (0.0000, 0.0000, 2.0335) [0.0000, 0.0000, 0.5000], 'LiF_225.cif'], [Structure Summary\n",
      "Lattice\n",
      "    abc : 4.444 4.444 4.444\n",
      " angles : 90.0 90.0 90.0\n",
      " volume : 87.765160384\n",
      "      A : 4.444 0.0 2.721165187705419e-16\n",
      "      B : 7.146497055162973e-16 4.444 2.721165187705419e-16\n",
      "      C : 0.0 0.0 4.444\n",
      "    pbc : True True True\n",
      "PeriodicSite: Mn0+ (0.0000, 0.0000, 0.0000) [0.0000, 0.0000, 0.0000]\n",
      "PeriodicSite: Mn0+ (0.0000, 2.2220, 2.2220) [0.0000, 0.5000, 0.5000]\n",
      "PeriodicSite: Mn0+ (2.2220, 0.0000, 2.2220) [0.5000, 0.0000, 0.5000]\n",
      "PeriodicSite: Mn0+ (2.2220, 2.2220, 0.0000) [0.5000, 0.5000, 0.0000]\n",
      "PeriodicSite: O0+ (2.2220, 2.2220, 2.2220) [0.5000, 0.5000, 0.5000]\n",
      "PeriodicSite: O0+ (2.2220, 0.0000, 0.0000) [0.5000, 0.0000, 0.0000]\n",
      "PeriodicSite: O0+ (0.0000, 2.2220, 0.0000) [0.0000, 0.5000, 0.0000]\n",
      "PeriodicSite: O0+ (0.0000, 0.0000, 2.2220) [0.0000, 0.0000, 0.5000], 'MnO_225.cif'], [Structure Summary\n",
      "Lattice\n",
      "    abc : 3.783 3.783 9.59\n",
      " angles : 90.0 90.0 90.0\n",
      " volume : 137.24334351\n",
      "      A : 3.783 0.0 2.3164194205872186e-16\n",
      "      B : 6.083527983726717e-16 3.783 2.3164194205872186e-16\n",
      "      C : 0.0 0.0 9.59\n",
      "    pbc : True True True\n",
      "PeriodicSite: Ti0+ (1.8915, 2.8373, 8.3912) [0.5000, 0.7500, 0.8750]\n",
      "PeriodicSite: Ti0+ (0.0000, 2.8373, 5.9938) [0.0000, 0.7500, 0.6250]\n",
      "PeriodicSite: Ti0+ (1.8915, 0.9457, 1.1988) [0.5000, 0.2500, 0.1250]\n",
      "PeriodicSite: Ti0+ (0.0000, 0.9457, 3.5962) [0.0000, 0.2500, 0.3750]\n",
      "PeriodicSite: O0+ (1.8915, 2.8373, 0.7979) [0.5000, 0.7500, 0.0832]\n",
      "PeriodicSite: O0+ (0.0000, 2.8373, 7.9904) [0.0000, 0.7500, 0.8332]\n",
      "PeriodicSite: O0+ (1.8915, 0.9457, 8.7921) [0.5000, 0.2500, 0.9168]\n",
      "PeriodicSite: O0+ (0.0000, 0.9457, 1.5996) [0.0000, 0.2500, 0.1668]\n",
      "PeriodicSite: O0+ (0.0000, 0.9457, 5.5929) [0.0000, 0.2500, 0.5832]\n",
      "PeriodicSite: O0+ (1.8915, 0.9457, 3.1954) [0.5000, 0.2500, 0.3332]\n",
      "PeriodicSite: O0+ (0.0000, 2.8373, 3.9971) [0.0000, 0.7500, 0.4168]\n",
      "PeriodicSite: O0+ (1.8915, 2.8373, 6.3946) [0.5000, 0.7500, 0.6668], 'TiO2_141.cif']]\n",
      "stage1\n"
     ]
    }
   ],
   "source": [
    "name = \"ModelTheta\" + str(60.0) + \".h5\"\n",
    "make_model(sys_args= sys.argv, is_pdf=True ,max_angle=float(60.0), model_name=name, skip_filter=True)\n",
    "print(\"finished \" + name)"
   ]
  },
  {
   "cell_type": "code",
   "execution_count": null,
   "metadata": {},
   "outputs": [],
   "source": []
  }
 ],
 "metadata": {
  "kernelspec": {
   "display_name": "Python 3.9.7 ('ceder3')",
   "language": "python",
   "name": "python3"
  },
  "language_info": {
   "codemirror_mode": {
    "name": "ipython",
    "version": 3
   },
   "file_extension": ".py",
   "mimetype": "text/x-python",
   "name": "python",
   "nbconvert_exporter": "python",
   "pygments_lexer": "ipython3",
   "version": "3.9.13"
  },
  "orig_nbformat": 4,
  "vscode": {
   "interpreter": {
    "hash": "e891c643dcf78842636d55f0fe5c243f8c814b3d0701cee19f83807e831be277"
   }
  }
 },
 "nbformat": 4,
 "nbformat_minor": 2
}
