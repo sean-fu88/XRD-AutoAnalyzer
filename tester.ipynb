{
 "cells": [
  {
   "cell_type": "markdown",
   "metadata": {},
   "source": []
  },
  {
   "cell_type": "code",
   "execution_count": 1,
   "metadata": {},
   "outputs": [],
   "source": [
    "from construct_model import *"
   ]
  },
  {
   "cell_type": "code",
   "execution_count": 2,
   "metadata": {},
   "outputs": [
    {
     "name": "stdout",
     "output_type": "stream",
     "text": [
      "got to spectrum\n",
      "initiated\n",
      "augmented time\n",
      "[[Structure Summary\n",
      "Lattice\n",
      "    abc : 4.067 4.067 4.067\n",
      " angles : 90.0 90.0 90.0\n",
      " volume : 67.270168763\n",
      "      A : 4.067 0.0 2.490319266066143e-16\n",
      "      B : 6.540234816234882e-16 4.067 2.490319266066143e-16\n",
      "      C : 0.0 0.0 4.067\n",
      "    pbc : True True True\n",
      "PeriodicSite: Li0+ (0.0000, 0.0000, 0.0000) [0.0000, 0.0000, 0.0000]\n",
      "PeriodicSite: Li0+ (0.0000, 2.0335, 2.0335) [0.0000, 0.5000, 0.5000]\n",
      "PeriodicSite: Li0+ (2.0335, 0.0000, 2.0335) [0.5000, 0.0000, 0.5000]\n",
      "PeriodicSite: Li0+ (2.0335, 2.0335, 0.0000) [0.5000, 0.5000, 0.0000]\n",
      "PeriodicSite: F0+ (2.0335, 2.0335, 2.0335) [0.5000, 0.5000, 0.5000]\n",
      "PeriodicSite: F0+ (2.0335, 0.0000, 0.0000) [0.5000, 0.0000, 0.0000]\n",
      "PeriodicSite: F0+ (0.0000, 2.0335, 0.0000) [0.0000, 0.5000, 0.0000]\n",
      "PeriodicSite: F0+ (0.0000, 0.0000, 2.0335) [0.0000, 0.0000, 0.5000], 'LiF_225.cif'], [Structure Summary\n",
      "Lattice\n",
      "    abc : 4.444 4.444 4.444\n",
      " angles : 90.0 90.0 90.0\n",
      " volume : 87.765160384\n",
      "      A : 4.444 0.0 2.721165187705419e-16\n",
      "      B : 7.146497055162973e-16 4.444 2.721165187705419e-16\n",
      "      C : 0.0 0.0 4.444\n",
      "    pbc : True True True\n",
      "PeriodicSite: Mn0+ (0.0000, 0.0000, 0.0000) [0.0000, 0.0000, 0.0000]\n",
      "PeriodicSite: Mn0+ (0.0000, 2.2220, 2.2220) [0.0000, 0.5000, 0.5000]\n",
      "PeriodicSite: Mn0+ (2.2220, 0.0000, 2.2220) [0.5000, 0.0000, 0.5000]\n",
      "PeriodicSite: Mn0+ (2.2220, 2.2220, 0.0000) [0.5000, 0.5000, 0.0000]\n",
      "PeriodicSite: O0+ (2.2220, 2.2220, 2.2220) [0.5000, 0.5000, 0.5000]\n",
      "PeriodicSite: O0+ (2.2220, 0.0000, 0.0000) [0.5000, 0.0000, 0.0000]\n",
      "PeriodicSite: O0+ (0.0000, 2.2220, 0.0000) [0.0000, 0.5000, 0.0000]\n",
      "PeriodicSite: O0+ (0.0000, 0.0000, 2.2220) [0.0000, 0.0000, 0.5000], 'MnO_225.cif'], [Structure Summary\n",
      "Lattice\n",
      "    abc : 3.783 3.783 9.59\n",
      " angles : 90.0 90.0 90.0\n",
      " volume : 137.24334351\n",
      "      A : 3.783 0.0 2.3164194205872186e-16\n",
      "      B : 6.083527983726717e-16 3.783 2.3164194205872186e-16\n",
      "      C : 0.0 0.0 9.59\n",
      "    pbc : True True True\n",
      "PeriodicSite: Ti0+ (1.8915, 2.8373, 8.3912) [0.5000, 0.7500, 0.8750]\n",
      "PeriodicSite: Ti0+ (0.0000, 2.8373, 5.9938) [0.0000, 0.7500, 0.6250]\n",
      "PeriodicSite: Ti0+ (1.8915, 0.9457, 1.1988) [0.5000, 0.2500, 0.1250]\n",
      "PeriodicSite: Ti0+ (0.0000, 0.9457, 3.5962) [0.0000, 0.2500, 0.3750]\n",
      "PeriodicSite: O0+ (1.8915, 2.8373, 0.7979) [0.5000, 0.7500, 0.0832]\n",
      "PeriodicSite: O0+ (0.0000, 2.8373, 7.9904) [0.0000, 0.7500, 0.8332]\n",
      "PeriodicSite: O0+ (1.8915, 0.9457, 8.7921) [0.5000, 0.2500, 0.9168]\n",
      "PeriodicSite: O0+ (0.0000, 0.9457, 1.5996) [0.0000, 0.2500, 0.1668]\n",
      "PeriodicSite: O0+ (0.0000, 0.9457, 5.5929) [0.0000, 0.2500, 0.5832]\n",
      "PeriodicSite: O0+ (1.8915, 0.9457, 3.1954) [0.5000, 0.2500, 0.3332]\n",
      "PeriodicSite: O0+ (0.0000, 2.8373, 3.9971) [0.0000, 0.7500, 0.4168]\n",
      "PeriodicSite: O0+ (1.8915, 2.8373, 6.3946) [0.5000, 0.7500, 0.6668], 'TiO2_141.cif']]\n",
      "stage1\n",
      "got here?\n",
      "start_augment\n",
      "done with patterns\n",
      "250\n",
      "4501\n",
      "1\n",
      "got here?\n",
      "start_augment\n",
      "done with patterns\n",
      "250\n",
      "4501\n",
      "1\n",
      "got here?\n",
      "start_augment\n",
      "done with patterns\n",
      "250\n",
      "4501\n",
      "1\n",
      "stage2\n",
      "stage3\n",
      "done with augmented_spectra\n",
      "onto cnn\n",
      "done with organizing data\n",
      "Epoch 1/2\n",
      "15/15 [==============================] - 5s 49ms/step - loss: 0.3407 - categorical_accuracy: 0.8938 - val_loss: 0.7705 - val_categorical_accuracy: 0.9750\n",
      "Epoch 2/2\n",
      "15/15 [==============================] - 0s 22ms/step - loss: 0.0287 - categorical_accuracy: 0.9896 - val_loss: 0.2753 - val_categorical_accuracy: 0.9750\n",
      "done with training\n",
      "5/5 [==============================] - 0s 15ms/step - loss: 0.2574 - categorical_accuracy: 0.9933\n",
      "Test Accuracy: 99.33333396911621%\n",
      "finished ModelTheta60.0.h5\n"
     ]
    }
   ],
   "source": [
    "name = \"ModelTheta\" + str(60.0) + \".h5\"\n",
    "make_model(sys_args= sys.argv, is_pdf = False, max_angle=60.0, model_name=name, skip_filter=True)\n",
    "print(\"finished \" + name)"
   ]
  },
  {
   "cell_type": "code",
   "execution_count": 2,
   "metadata": {},
   "outputs": [
    {
     "name": "stdout",
     "output_type": "stream",
     "text": [
      "got to spectrum\n",
      "initiated\n",
      "augmented time\n",
      "[[Structure Summary\n",
      "Lattice\n",
      "    abc : 4.067 4.067 4.067\n",
      " angles : 90.0 90.0 90.0\n",
      " volume : 67.270168763\n",
      "      A : 4.067 0.0 2.490319266066143e-16\n",
      "      B : 6.540234816234882e-16 4.067 2.490319266066143e-16\n",
      "      C : 0.0 0.0 4.067\n",
      "    pbc : True True True\n",
      "PeriodicSite: Li0+ (0.0000, 0.0000, 0.0000) [0.0000, 0.0000, 0.0000]\n",
      "PeriodicSite: Li0+ (0.0000, 2.0335, 2.0335) [0.0000, 0.5000, 0.5000]\n",
      "PeriodicSite: Li0+ (2.0335, 0.0000, 2.0335) [0.5000, 0.0000, 0.5000]\n",
      "PeriodicSite: Li0+ (2.0335, 2.0335, 0.0000) [0.5000, 0.5000, 0.0000]\n",
      "PeriodicSite: F0+ (2.0335, 2.0335, 2.0335) [0.5000, 0.5000, 0.5000]\n",
      "PeriodicSite: F0+ (2.0335, 0.0000, 0.0000) [0.5000, 0.0000, 0.0000]\n",
      "PeriodicSite: F0+ (0.0000, 2.0335, 0.0000) [0.0000, 0.5000, 0.0000]\n",
      "PeriodicSite: F0+ (0.0000, 0.0000, 2.0335) [0.0000, 0.0000, 0.5000], 'LiF_225.cif'], [Structure Summary\n",
      "Lattice\n",
      "    abc : 4.444 4.444 4.444\n",
      " angles : 90.0 90.0 90.0\n",
      " volume : 87.765160384\n",
      "      A : 4.444 0.0 2.721165187705419e-16\n",
      "      B : 7.146497055162973e-16 4.444 2.721165187705419e-16\n",
      "      C : 0.0 0.0 4.444\n",
      "    pbc : True True True\n",
      "PeriodicSite: Mn0+ (0.0000, 0.0000, 0.0000) [0.0000, 0.0000, 0.0000]\n",
      "PeriodicSite: Mn0+ (0.0000, 2.2220, 2.2220) [0.0000, 0.5000, 0.5000]\n",
      "PeriodicSite: Mn0+ (2.2220, 0.0000, 2.2220) [0.5000, 0.0000, 0.5000]\n",
      "PeriodicSite: Mn0+ (2.2220, 2.2220, 0.0000) [0.5000, 0.5000, 0.0000]\n",
      "PeriodicSite: O0+ (2.2220, 2.2220, 2.2220) [0.5000, 0.5000, 0.5000]\n",
      "PeriodicSite: O0+ (2.2220, 0.0000, 0.0000) [0.5000, 0.0000, 0.0000]\n",
      "PeriodicSite: O0+ (0.0000, 2.2220, 0.0000) [0.0000, 0.5000, 0.0000]\n",
      "PeriodicSite: O0+ (0.0000, 0.0000, 2.2220) [0.0000, 0.0000, 0.5000], 'MnO_225.cif'], [Structure Summary\n",
      "Lattice\n",
      "    abc : 3.783 3.783 9.59\n",
      " angles : 90.0 90.0 90.0\n",
      " volume : 137.24334351\n",
      "      A : 3.783 0.0 2.3164194205872186e-16\n",
      "      B : 6.083527983726717e-16 3.783 2.3164194205872186e-16\n",
      "      C : 0.0 0.0 9.59\n",
      "    pbc : True True True\n",
      "PeriodicSite: Ti0+ (1.8915, 2.8373, 8.3912) [0.5000, 0.7500, 0.8750]\n",
      "PeriodicSite: Ti0+ (0.0000, 2.8373, 5.9938) [0.0000, 0.7500, 0.6250]\n",
      "PeriodicSite: Ti0+ (1.8915, 0.9457, 1.1988) [0.5000, 0.2500, 0.1250]\n",
      "PeriodicSite: Ti0+ (0.0000, 0.9457, 3.5962) [0.0000, 0.2500, 0.3750]\n",
      "PeriodicSite: O0+ (1.8915, 2.8373, 0.7979) [0.5000, 0.7500, 0.0832]\n",
      "PeriodicSite: O0+ (0.0000, 2.8373, 7.9904) [0.0000, 0.7500, 0.8332]\n",
      "PeriodicSite: O0+ (1.8915, 0.9457, 8.7921) [0.5000, 0.2500, 0.9168]\n",
      "PeriodicSite: O0+ (0.0000, 0.9457, 1.5996) [0.0000, 0.2500, 0.1668]\n",
      "PeriodicSite: O0+ (0.0000, 0.9457, 5.5929) [0.0000, 0.2500, 0.5832]\n",
      "PeriodicSite: O0+ (1.8915, 0.9457, 3.1954) [0.5000, 0.2500, 0.3332]\n",
      "PeriodicSite: O0+ (0.0000, 2.8373, 3.9971) [0.0000, 0.7500, 0.4168]\n",
      "PeriodicSite: O0+ (1.8915, 2.8373, 6.3946) [0.5000, 0.7500, 0.6668], 'TiO2_141.cif']]\n",
      "stage1\n",
      "got here?\n",
      "start_augment\n",
      "done with patterns\n",
      "250\n",
      "4501\n",
      "1\n",
      "is a pdf\n",
      "enter for loop1\n",
      "to combined\n",
      "got here\n"
     ]
    },
    {
     "ename": "TypeError",
     "evalue": "object of type 'float' has no len()",
     "output_type": "error",
     "traceback": [
      "\u001b[1;31m---------------------------------------------------------------------------\u001b[0m",
      "\u001b[1;31mTypeError\u001b[0m                                 Traceback (most recent call last)",
      "\u001b[1;32mc:\\Sean\\Research\\Code\\last_one\\XRD-AutoAnalyzer\\tester.ipynb Cell 4\u001b[0m in \u001b[0;36m<cell line: 2>\u001b[1;34m()\u001b[0m\n\u001b[0;32m      <a href='vscode-notebook-cell:/c%3A/Sean/Research/Code/last_one/XRD-AutoAnalyzer/tester.ipynb#W3sZmlsZQ%3D%3D?line=0'>1</a>\u001b[0m name \u001b[39m=\u001b[39m \u001b[39m\"\u001b[39m\u001b[39mModelTheta\u001b[39m\u001b[39m\"\u001b[39m \u001b[39m+\u001b[39m \u001b[39mstr\u001b[39m(\u001b[39m60.0\u001b[39m) \u001b[39m+\u001b[39m \u001b[39m\"\u001b[39m\u001b[39m.h5\u001b[39m\u001b[39m\"\u001b[39m\n\u001b[1;32m----> <a href='vscode-notebook-cell:/c%3A/Sean/Research/Code/last_one/XRD-AutoAnalyzer/tester.ipynb#W3sZmlsZQ%3D%3D?line=1'>2</a>\u001b[0m make_model(sys_args\u001b[39m=\u001b[39;49m sys\u001b[39m.\u001b[39;49margv, is_pdf\u001b[39m=\u001b[39;49m\u001b[39mTrue\u001b[39;49;00m ,max_angle\u001b[39m=\u001b[39;49m\u001b[39mfloat\u001b[39;49m(\u001b[39m60.0\u001b[39;49m), model_name\u001b[39m=\u001b[39;49mname, skip_filter\u001b[39m=\u001b[39;49m\u001b[39mTrue\u001b[39;49;00m)\n\u001b[0;32m      <a href='vscode-notebook-cell:/c%3A/Sean/Research/Code/last_one/XRD-AutoAnalyzer/tester.ipynb#W3sZmlsZQ%3D%3D?line=2'>3</a>\u001b[0m \u001b[39mprint\u001b[39m(\u001b[39m\"\u001b[39m\u001b[39mfinished \u001b[39m\u001b[39m\"\u001b[39m \u001b[39m+\u001b[39m name)\n",
      "File \u001b[1;32mc:\\Sean\\Research\\Code\\last_one\\XRD-AutoAnalyzer\\construct_model.py:47\u001b[0m, in \u001b[0;36mmake_model\u001b[1;34m(model_name, is_pdf, max_texture, min_domain_size, max_domain_size, max_strain, max_shift, num_spectra, min_angle, max_angle, num_epochs, separate, skip_filter, include_elems, sys_args)\u001b[0m\n\u001b[0;32m     45\u001b[0m xrd_obj \u001b[39m=\u001b[39m spectrum_generation\u001b[39m.\u001b[39mSpectraGenerator(reference_dir\u001b[39m=\u001b[39m \u001b[39m'\u001b[39m\u001b[39mReferences\u001b[39m\u001b[39m'\u001b[39m,num_spectra\u001b[39m=\u001b[39m num_spectra,max_texture\u001b[39m=\u001b[39m max_texture,min_domain_size \u001b[39m=\u001b[39m min_domain_size, max_domain_size \u001b[39m=\u001b[39m max_domain_size, max_strain \u001b[39m=\u001b[39m max_strain, max_shift \u001b[39m=\u001b[39m max_shift, min_angle \u001b[39m=\u001b[39m min_angle, max_angle\u001b[39m=\u001b[39m max_angle, separate\u001b[39m=\u001b[39m separate, is_pdf\u001b[39m=\u001b[39mis_pdf)\n\u001b[0;32m     46\u001b[0m \u001b[39mprint\u001b[39m(\u001b[39m\"\u001b[39m\u001b[39minitiated\u001b[39m\u001b[39m\"\u001b[39m)\n\u001b[1;32m---> 47\u001b[0m xrd_specs \u001b[39m=\u001b[39m xrd_obj\u001b[39m.\u001b[39;49maugmented_spectra\n\u001b[0;32m     48\u001b[0m np\u001b[39m.\u001b[39msave(\u001b[39m'\u001b[39m\u001b[39mXRD\u001b[39m\u001b[39m'\u001b[39m, xrd_specs)\n\u001b[0;32m     49\u001b[0m \u001b[39mprint\u001b[39m(\u001b[39m\"\u001b[39m\u001b[39monto cnn\u001b[39m\u001b[39m\"\u001b[39m)\n",
      "File \u001b[1;32mc:\\Sean\\Research\\Code\\last_one\\XRD-AutoAnalyzer\\autoXRD\\spectrum_generation\\__init__.py:104\u001b[0m, in \u001b[0;36mSpectraGenerator.augmented_spectra\u001b[1;34m(self)\u001b[0m\n\u001b[0;32m    102\u001b[0m grouped_xrd \u001b[39m=\u001b[39m []\n\u001b[0;32m    103\u001b[0m \u001b[39mfor\u001b[39;00m ph \u001b[39min\u001b[39;00m phases:\n\u001b[1;32m--> 104\u001b[0m     grouped_xrd\u001b[39m.\u001b[39mappend(\u001b[39mself\u001b[39;49m\u001b[39m.\u001b[39;49maugment(ph))\n\u001b[0;32m    105\u001b[0m \u001b[39mprint\u001b[39m(\u001b[39m\"\u001b[39m\u001b[39mstage2\u001b[39m\u001b[39m\"\u001b[39m)\n\u001b[0;32m    106\u001b[0m sorted_xrd \u001b[39m=\u001b[39m \u001b[39msorted\u001b[39m(grouped_xrd, key\u001b[39m=\u001b[39m\u001b[39mlambda\u001b[39;00m x: x[\u001b[39m1\u001b[39m]) \u001b[39m## Sort by filename\u001b[39;00m\n",
      "File \u001b[1;32mc:\\Sean\\Research\\Code\\last_one\\XRD-AutoAnalyzer\\autoXRD\\spectrum_generation\\__init__.py:83\u001b[0m, in \u001b[0;36mSpectraGenerator.augment\u001b[1;34m(self, phase_info)\u001b[0m\n\u001b[0;32m     81\u001b[0m xrd_pattern \u001b[39m=\u001b[39m np\u001b[39m.\u001b[39marray(xrd_pattern)\u001b[39m.\u001b[39mflatten()\n\u001b[0;32m     82\u001b[0m \u001b[39mprint\u001b[39m(\u001b[39m\"\u001b[39m\u001b[39mto combined\u001b[39m\u001b[39m\"\u001b[39m)\n\u001b[1;32m---> 83\u001b[0m pdf \u001b[39m=\u001b[39m XRDtoPDF(xrd_pattern, \u001b[39mself\u001b[39;49m\u001b[39m.\u001b[39;49mmin_angle, \u001b[39mself\u001b[39;49m\u001b[39m.\u001b[39;49mmax_angle)\n\u001b[0;32m     84\u001b[0m \u001b[39mprint\u001b[39m(\u001b[39m\"\u001b[39m\u001b[39mdone xrd2pdf\u001b[39m\u001b[39m\"\u001b[39m)\n\u001b[0;32m     85\u001b[0m pdf \u001b[39m=\u001b[39m [[val] \u001b[39mfor\u001b[39;00m val \u001b[39min\u001b[39;00m pdf]\n",
      "File \u001b[1;32mc:\\Sean\\Research\\Code\\last_one\\XRD-AutoAnalyzer\\autoXRD\\Combined_Analysis.py:96\u001b[0m, in \u001b[0;36mXRDtoPDF\u001b[1;34m(pattern, min_angle, max_angle)\u001b[0m\n\u001b[0;32m     94\u001b[0m     Q\u001b[39m.\u001b[39mappend(q)\n\u001b[0;32m     95\u001b[0m     S\u001b[39m.\u001b[39mappend(\u001b[39mfloat\u001b[39m(pattern[i]))\n\u001b[1;32m---> 96\u001b[0m \u001b[39mprint\u001b[39m(S, \u001b[39mlen\u001b[39;49m(S[i]))\n\u001b[0;32m     97\u001b[0m \u001b[39mprint\u001b[39m(\u001b[39mlen\u001b[39m(S))\n\u001b[0;32m     98\u001b[0m pdf \u001b[39m=\u001b[39m []\n",
      "\u001b[1;31mTypeError\u001b[0m: object of type 'float' has no len()"
     ]
    }
   ],
   "source": [
    "name = \"ModelTheta\" + str(60.0) + \".h5\"\n",
    "make_model(sys_args= sys.argv, is_pdf=True ,max_angle=float(60.0), model_name=name, skip_filter=True)\n",
    "print(\"finished \" + name)"
   ]
  },
  {
   "cell_type": "code",
   "execution_count": 10,
   "metadata": {},
   "outputs": [],
   "source": [
    "from autoXRD.Combined_Analysis2 import *\n",
    "from autoXRD.Combined_Analysis import *\n",
    "import numpy as np\n",
    "import math\n",
    "from scipy.integrate import simps"
   ]
  },
  {
   "cell_type": "code",
   "execution_count": 16,
   "metadata": {},
   "outputs": [
    {
     "name": "stdout",
     "output_type": "stream",
     "text": [
      "2\n",
      "[1 2]\n",
      "2\n",
      "[3 4]\n",
      "2\n",
      "[5 6]\n",
      "6\n"
     ]
    },
    {
     "data": {
      "text/plain": [
       "array([0.00037794, 0.00075561, 0.00113275, 0.0015091 , 0.0018844 ,\n",
       "       0.00225837])"
      ]
     },
     "execution_count": 16,
     "metadata": {},
     "output_type": "execute_result"
    }
   ],
   "source": [
    "testArray = np.array([[[1], [2]], [[3],[4]], [[5],[6]]])\n",
    "thing =np.array([])\n",
    "for pattern in testArray:\n",
    "    print(len(pattern))\n",
    "    pattern = np.array(pattern).flatten()\n",
    "    []\n",
    "    print(pattern)\n",
    "    thing = np.append(thing, pattern)\n",
    "testArray2 = [1, 2, 3, 4, 5, 6]\n",
    "theta = [pattern/2 for pattern in testArray2]\n",
    "Q = np.array([4*math.pi*math.sin(math.radians(thetas)) /1.5406 for thetas in theta])\n",
    "S= np.array([4*math.pi*math.sin(math.radians(thetas)) /1.5406 for thetas in theta])\n",
    "R = np.array([4*math.pi*math.sin(math.radians(thetas)) /1.5406 for thetas in theta])\n",
    "print(len(R))\n",
    "integrand = [[Q[i] * S[i] * math.sin(Q[i] * r) for i in range(len(Q))] for r in R]\n",
    "integrand\n",
    "pdf = (2*simps(integrand, Q) / math.pi)\n",
    "pdf"
   ]
  },
  {
   "cell_type": "code",
   "execution_count": null,
   "metadata": {},
   "outputs": [],
   "source": [
    "pattern = np.array([[[1], [2]], [[3],[4]], [[5],[6]]])\n",
    "\n",
    "for i in range(len(pattern)):\n",
    "    two_theta = float(x[i])\n",
    "    theta = two_theta / 2.\n",
    "    q = 4 * math.pi * math.sin(math.radians(theta)) / 1.5406\n",
    "    Q.append(q)\n",
    "    S.append(float(pattern[i]))\n",
    "print(S, len(S[i]))\n",
    "print(len(S))\n",
    "pdf = []\n",
    "R = np.linspace(0, 20, 4501)\n",
    "for r in R:\n",
    "    integrand = []\n",
    "    for (s, q) in zip(S, Q):\n",
    "        integrand.append(q * (s - 0.0) * math.sin(q * r))\n",
    "    pdf.append(2 * simps(integrand, Q) / math.pi)"
   ]
  }
 ],
 "metadata": {
  "kernelspec": {
   "display_name": "Python 3.9.7 ('ceder3')",
   "language": "python",
   "name": "python3"
  },
  "language_info": {
   "codemirror_mode": {
    "name": "ipython",
    "version": 3
   },
   "file_extension": ".py",
   "mimetype": "text/x-python",
   "name": "python",
   "nbconvert_exporter": "python",
   "pygments_lexer": "ipython3",
   "version": "3.9.13"
  },
  "orig_nbformat": 4,
  "vscode": {
   "interpreter": {
    "hash": "e891c643dcf78842636d55f0fe5c243f8c814b3d0701cee19f83807e831be277"
   }
  }
 },
 "nbformat": 4,
 "nbformat_minor": 2
}
